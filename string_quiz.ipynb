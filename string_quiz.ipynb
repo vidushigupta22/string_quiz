{
 "cells": [
  {
   "cell_type": "code",
   "execution_count": 5,
   "metadata": {},
   "outputs": [
    {
     "name": "stdout",
     "output_type": "stream",
     "text": [
      "hello my name is vidushi\n"
     ]
    }
   ],
   "source": [
    "# 1. Create a string and print it.\n",
    "\n",
    "st = 'hello my name is vidushi'\n",
    "\n",
    "print(st)"
   ]
  },
  {
   "cell_type": "code",
   "execution_count": 6,
   "metadata": {},
   "outputs": [
    {
     "name": "stdout",
     "output_type": "stream",
     "text": [
      "24\n"
     ]
    }
   ],
   "source": [
    "# 2. Take a string input and print it's length.\n",
    "\n",
    "st = 'hello my name is vidushi'\n",
    "print(len(st))"
   ]
  },
  {
   "cell_type": "code",
   "execution_count": 7,
   "metadata": {},
   "outputs": [
    {
     "name": "stdout",
     "output_type": "stream",
     "text": [
      "great\n"
     ]
    }
   ],
   "source": [
    "# 3. Print the last word of the string Python is great using slices.\n",
    "\n",
    "st1 = 'Python is great'\n",
    "\n",
    "print(st1[10:15])"
   ]
  },
  {
   "cell_type": "code",
   "execution_count": 8,
   "metadata": {},
   "outputs": [
    {
     "name": "stdout",
     "output_type": "stream",
     "text": [
      "python\n",
      "is\n",
      "everywhere\n"
     ]
    }
   ],
   "source": [
    "# 4. Print the each word in different line of string python is everywhere.\n",
    "\n",
    "# st2 = 'python is everywhere'\n",
    "\n",
    "print('python\\nis\\neverywhere')"
   ]
  },
  {
   "cell_type": "code",
   "execution_count": 9,
   "metadata": {},
   "outputs": [
    {
     "name": "stdout",
     "output_type": "stream",
     "text": [
      "speep_pus\n"
     ]
    }
   ],
   "source": [
    "# 5. Print the string Hello World! in reverse.\n",
    "\n",
    "st3 = 'sup_peeps'\n",
    "\n",
    "print(st3[ : :-1])"
   ]
  },
  {
   "cell_type": "code",
   "execution_count": 10,
   "metadata": {},
   "outputs": [
    {
     "name": "stdout",
     "output_type": "stream",
     "text": [
      "HOW ARE YOU?\n"
     ]
    }
   ],
   "source": [
    "# 6. Convert the string How are you? in uppercase.\n",
    "\n",
    "st4 = \"How are you?\"\n",
    "\n",
    "print(st4.upper())"
   ]
  },
  {
   "cell_type": "code",
   "execution_count": 11,
   "metadata": {},
   "outputs": [
    {
     "data": {
      "text/plain": [
       "'how is it going?'"
      ]
     },
     "execution_count": 11,
     "metadata": {},
     "output_type": "execute_result"
    }
   ],
   "source": [
    "# 7. Convert the string How Is It Going? in lowercase.\n",
    "\n",
    "st5 = \"How Is It Going?\"\n",
    "\n",
    "st5.lower()"
   ]
  },
  {
   "cell_type": "code",
   "execution_count": 12,
   "metadata": {},
   "outputs": [
    {
     "data": {
      "text/plain": [
       "'Python is easy to learn'"
      ]
     },
     "execution_count": 12,
     "metadata": {},
     "output_type": "execute_result"
    }
   ],
   "source": [
    "# 8. Join the following list by spaces( ) and print the result.\n",
    "# words = ['Python', 'is', 'easy', 'to', 'learn']\n",
    "\n",
    "words = ['Python', 'is', 'easy', 'to', 'learn']\n",
    "\n",
    "' '.join(words)\n"
   ]
  },
  {
   "cell_type": "code",
   "execution_count": 13,
   "metadata": {},
   "outputs": [
    {
     "name": "stdout",
     "output_type": "stream",
     "text": [
      "hello my name is vidushi\n",
      "I am 22 years old\n",
      "I recently started learning python\n",
      "and I am quite amazed by it \n"
     ]
    }
   ],
   "source": [
    "# 9. Print a multiline string using a single print\n",
    "\n",
    "st6 = '''hello my name is vidushi\n",
    "I am 22 years old\n",
    "I recently started learning python\n",
    "and I am quite amazed by it '''\n",
    "                    \n",
    "print(st6)"
   ]
  },
  {
   "cell_type": "code",
   "execution_count": 14,
   "metadata": {},
   "outputs": [
    {
     "name": "stdout",
     "output_type": "stream",
     "text": [
      "hello my name is vidushi\n",
      " I am 22 years old\n",
      " I recently started learning python\n",
      " and I am quite amazed by it \n"
     ]
    }
   ],
   "source": [
    "# 10. Print this string to move to newline '\\n' is used\n",
    "\n",
    "print(\"hello my name is vidushi\\n I am 22 years old\\n I recently started learning python\\n and I am quite amazed by it \")\n",
    "\n"
   ]
  },
  {
   "cell_type": "code",
   "execution_count": 17,
   "metadata": {},
   "outputs": [
    {
     "name": "stdout",
     "output_type": "stream",
     "text": [
      "the variable is 15\n"
     ]
    }
   ],
   "source": [
    "# 11. Print a variable with some text using a single print function, output should look like following.\n",
    "#  the variable is 15\n",
    "\n",
    "s = 'the variable is 15'\n",
    "\n",
    "\n",
    "print(s)"
   ]
  },
  {
   "cell_type": "code",
   "execution_count": 1,
   "metadata": {},
   "outputs": [
    {
     "name": "stdout",
     "output_type": "stream",
     "text": [
      "python is great.\n"
     ]
    }
   ],
   "source": [
    "# 12. concatenate the following strings and print the result\n",
    "# s1 = 'python '\n",
    "# s2 = 'is '\n",
    "# s3 = 'great.'\n",
    "\n",
    "s1 = 'python '\n",
    "s2 = 'is '\n",
    "s3 = 'great.'\n",
    "\n",
    "print (s1+s2+s3)\n",
    "\n"
   ]
  },
  {
   "cell_type": "code",
   "execution_count": 2,
   "metadata": {},
   "outputs": [
    {
     "name": "stdout",
     "output_type": "stream",
     "text": [
      "####################\n"
     ]
    }
   ],
   "source": [
    "#13. Print # 20 times without using a loop\n",
    "\n",
    "print('#' * 20)"
   ]
  },
  {
   "cell_type": "code",
   "execution_count": 4,
   "metadata": {},
   "outputs": [
    {
     "name": "stdout",
     "output_type": "stream",
     "text": [
      "1 .\n",
      "2 .\n",
      "3 .\n",
      "4 .\n",
      "5 .\n",
      "6 .\n",
      "7 .\n",
      "8 .\n",
      "9 .\n",
      "10 .\n"
     ]
    }
   ],
   "source": [
    "# 14. Print numbers from 1 to 9, each on a seperate line, followed by a dot, output should look like the following-\n",
    "# 1.\n",
    "# 2.\n",
    "# 3.\n",
    "\n",
    "i = 1\n",
    "while(i <= 10):\n",
    "    print(i,'.')\n",
    "    i=i+1\n",
    "\n"
   ]
  },
  {
   "cell_type": "code",
   "execution_count": 5,
   "metadata": {},
   "outputs": [
    {
     "name": "stdout",
     "output_type": "stream",
     "text": [
      "hi\n",
      "wassup\n",
      "yeah i am doing good, wbu?\n",
      "i am fine\n",
      "oh that's great\n"
     ]
    }
   ],
   "source": [
    "# 15. Ask user to input a sentence and print each word on a different line.\n",
    "\n",
    "for i in range(5):\n",
    "    enter = input('enter words\\n')\n",
    "    print(enter)"
   ]
  },
  {
   "cell_type": "code",
   "execution_count": 9,
   "metadata": {},
   "outputs": [
    {
     "name": "stdout",
     "output_type": "stream",
     "text": [
      "how are you?\n",
      "I found it \n"
     ]
    }
   ],
   "source": [
    "# 16. Ask user to input a string and check if the string ends with '?'  ################### check it\n",
    "\n",
    "give_input = input('enter here')\n",
    "print(give_input)\n",
    "\n",
    "q = '?'\n",
    "\n",
    "if '?' in give_input:\n",
    "    print('I found it ')"
   ]
  },
  {
   "cell_type": "code",
   "execution_count": 12,
   "metadata": {},
   "outputs": [
    {
     "name": "stdout",
     "output_type": "stream",
     "text": [
      "hen lay eggs here where sun rises in east\n",
      "8\n"
     ]
    }
   ],
   "source": [
    "# 17.  Ask user to input a string and print how many times e appeared in the string\n",
    "\n",
    "give_input = input('enter here')\n",
    "print(give_input)\n",
    "\n",
    "print(give_input.count('e'))\n",
    "\n"
   ]
  },
  {
   "cell_type": "code",
   "execution_count": 13,
   "metadata": {},
   "outputs": [
    {
     "name": "stdout",
     "output_type": "stream",
     "text": [
      "this input 9839879961 contain numbers\n"
     ]
    }
   ],
   "source": [
    "# 18. Check if the user input is a number.\n",
    "\n",
    "give_input = input('enter here')\n",
    "\n",
    "if give_input.isnumeric() :\n",
    "    print(f'this input {give_input} contain numbers')"
   ]
  },
  {
   "cell_type": "code",
   "execution_count": 15,
   "metadata": {},
   "outputs": [
    {
     "name": "stdout",
     "output_type": "stream",
     "text": [
      "this is not a good string\n"
     ]
    }
   ],
   "source": [
    "# 19. Remove the extra spaces in beginning and in the end of the following string-\n",
    "# text = '   this is not a good string  \n",
    "\n",
    "text = '   this is not a good string   '\n",
    "\n",
    "Rspaces = text.strip()\n",
    "\n",
    "print(Rspaces)"
   ]
  },
  {
   "cell_type": "code",
   "execution_count": null,
   "metadata": {},
   "outputs": [],
   "source": [
    "# 20. Ask user to input string, print found if any of the character is upper case.\n",
    "\n",
    "user_input = input('enter here')\n",
    "print(user_input)\n",
    "\n",
    "for i in user_input :\n",
    "    if i.upper:\n",
    "        print('found')\n",
    "    else:\n",
    "        print('not in upper', i)\n"
   ]
  },
  {
   "cell_type": "code",
   "execution_count": 35,
   "metadata": {},
   "outputs": [
    {
     "name": "stdout",
     "output_type": "stream",
     "text": [
      "['Joe', 'David', 'Mark', 'Tom', 'Chris', 'Robert']\n",
      "['Joe', 'David', 'Mark', 'Tom', 'Chris', 'Robert']\n"
     ]
    }
   ],
   "source": [
    "# 21. Extract names from the following string and store them in a list.\n",
    "# names = 'Joe, David, Mark, Tom, Chris, Robert'\n",
    "\n",
    "mylist = []\n",
    "\n",
    "names =  'Joe, David, Mark, Tom, Chris, Robert'\n",
    "\n",
    "\n",
    "i = names.split(', ')\n",
    "print(i)\n",
    "\n",
    "for y in i:\n",
    "    mylist.append(y)\n",
    "    \n",
    "print(mylist)"
   ]
  },
  {
   "cell_type": "code",
   "execution_count": 47,
   "metadata": {},
   "outputs": [
    {
     "name": "stdout",
     "output_type": "stream",
     "text": [
      "sepr = ['this', 'is', 'some', 'text']\n",
      "this aye\n",
      "is aye\n",
      "some aye\n",
      "text aye\n"
     ]
    }
   ],
   "source": [
    "# 22. In the following string, add aye in the end of every word and print the results.\n",
    "# text = 'this is some text'\n",
    "\n",
    "text = 'this is some text'\n",
    "sepr = text.split(' ')\n",
    "\n",
    "print('sepr =',sepr)\n",
    "\n",
    "for a in sepr:\n",
    "    print(a,'aye')\n",
    "\n"
   ]
  },
  {
   "cell_type": "code",
   "execution_count": 49,
   "metadata": {},
   "outputs": [
    {
     "name": "stdout",
     "output_type": "stream",
     "text": [
      "diy fyi\n",
      "fyi found here\n"
     ]
    }
   ],
   "source": [
    "# 23. ask user to enter a string and check if the string contains fyi\n",
    "\n",
    "user_input = input('enter here')\n",
    "print(user_input)\n",
    "\n",
    "if 'fyi' in user_input:\n",
    "    print('fyi found here')"
   ]
  },
  {
   "cell_type": "code",
   "execution_count": 3,
   "metadata": {},
   "outputs": [
    {
     "name": "stdout",
     "output_type": "stream",
     "text": [
      "python\n",
      "%34@!*-*!68#&404\n"
     ]
    }
   ],
   "source": [
    "# 24. Remove all the special characters and numbers from the following string\n",
    "# text = '%p34@y!*-*!t68h#&on404'\n",
    "\n",
    "text = '%p34@y!*-*!t68h#&on404'\n",
    "a = ''\n",
    "r = ''\n",
    "for i in text:\n",
    "    if i.isalpha():\n",
    "        a = a+i\n",
    "    else:\n",
    "        r = r+i\n",
    "        \n",
    "print(a)\n",
    "\n",
    "print(r)"
   ]
  },
  {
   "cell_type": "code",
   "execution_count": 23,
   "metadata": {},
   "outputs": [
    {
     "name": "stdout",
     "output_type": "stream",
     "text": [
      "['this', 'is', 'a', 'paragraph', 'which', 'is', 'written', 'just', 'for', 'the', 'purpose', 'of', 'providing', 'content', 'to', 'let', 'the', 'average', 'word', 'length', 'be', 'calculated']\n",
      "total no. of words = 22\n",
      "t 1\n",
      "h 2\n",
      "i 3\n",
      "s 4\n",
      "i 5\n",
      "s 6\n",
      "a 7\n",
      "p 8\n",
      "a 9\n",
      "r 10\n",
      "a 11\n",
      "g 12\n",
      "r 13\n",
      "a 14\n",
      "p 15\n",
      "h 16\n",
      "w 17\n",
      "h 18\n",
      "i 19\n",
      "c 20\n",
      "h 21\n",
      "i 22\n",
      "s 23\n",
      "w 24\n",
      "r 25\n",
      "i 26\n",
      "t 27\n",
      "t 28\n",
      "e 29\n",
      "n 30\n",
      "j 31\n",
      "u 32\n",
      "s 33\n",
      "t 34\n",
      "f 35\n",
      "o 36\n",
      "r 37\n",
      "t 38\n",
      "h 39\n",
      "e 40\n",
      "p 41\n",
      "u 42\n",
      "r 43\n",
      "p 44\n",
      "o 45\n",
      "s 46\n",
      "e 47\n",
      "o 48\n",
      "f 49\n",
      "p 50\n",
      "r 51\n",
      "o 52\n",
      "v 53\n",
      "i 54\n",
      "d 55\n",
      "i 56\n",
      "n 57\n",
      "g 58\n",
      "c 59\n",
      "o 60\n",
      "n 61\n",
      "t 62\n",
      "e 63\n",
      "n 64\n",
      "t 65\n",
      "t 66\n",
      "o 67\n",
      "l 68\n",
      "e 69\n",
      "t 70\n",
      "t 71\n",
      "h 72\n",
      "e 73\n",
      "a 74\n",
      "v 75\n",
      "e 76\n",
      "r 77\n",
      "a 78\n",
      "g 79\n",
      "e 80\n",
      "w 81\n",
      "o 82\n",
      "r 83\n",
      "d 84\n",
      "l 85\n",
      "e 86\n",
      "n 87\n",
      "g 88\n",
      "t 89\n",
      "h 90\n",
      "b 91\n",
      "e 92\n",
      "c 93\n",
      "a 94\n",
      "l 95\n",
      "c 96\n",
      "u 97\n",
      "l 98\n",
      "a 99\n",
      "t 100\n",
      "e 101\n",
      "d 102\n",
      "length of total characters in paragraph = 102\n",
      "average word length =  4.636363636363637\n"
     ]
    }
   ],
   "source": [
    "# 25. calculate the average word length of the following paragraph \n",
    "# this is a paragraph which is written just for the purpose of providing content to let the average word length be calculated\n",
    "# totawords(len)[har ek word me kitne char unsabka total]/ total number of words\n",
    "\n",
    "txt = 'this is a paragraph which is written just for the purpose of providing content to let the average word length be calculated'\n",
    "\n",
    "sep_words = txt.split(' ')\n",
    "print(a)\n",
    "l = len(a)\n",
    "\n",
    "print('total no. of words =',l)\n",
    "\n",
    "new_txt = txt.replace(' ','')\n",
    "\n",
    "\n",
    "sum = 0\n",
    "for i in new_txt:\n",
    "    sum = sum+1\n",
    "    print(i,sum)\n",
    "    \n",
    "# OR\n",
    "# len(new_txt)\n",
    "        \n",
    "        \n",
    "print('length of total characters in paragraph =',sum)\n",
    "\n",
    "print('average word length = ',sum/l)\n",
    "    \n",
    "    \n",
    "\n",
    "\n",
    "# for indx,word in enumerate(a):\n",
    "#     sum = indx+sum"
   ]
  },
  {
   "cell_type": "code",
   "execution_count": null,
   "metadata": {},
   "outputs": [],
   "source": []
  }
 ],
 "metadata": {
  "interpreter": {
   "hash": "fb4569285eef3a3450cb62085a5b1e0da4bce0af555edc33dcf29baf3acc1368"
  },
  "kernelspec": {
   "display_name": "Python 3.10.2 64-bit",
   "language": "python",
   "name": "python3"
  },
  "language_info": {
   "codemirror_mode": {
    "name": "ipython",
    "version": 3
   },
   "file_extension": ".py",
   "mimetype": "text/x-python",
   "name": "python",
   "nbconvert_exporter": "python",
   "pygments_lexer": "ipython3",
   "version": "3.10.2"
  },
  "orig_nbformat": 4
 },
 "nbformat": 4,
 "nbformat_minor": 2
}
